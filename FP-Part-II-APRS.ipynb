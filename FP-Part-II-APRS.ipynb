{
 "cells": [
  {
   "cell_type": "markdown",
   "metadata": {},
   "source": [
    "# Final Project Part II: AX.25 and APRS\n",
    "## Please read the text in this notebook carefully, there's lots of important detailed information everywhere. \n",
    "\n",
    "In this part of the project we are going to experiment with digital modulation and communication. Network communication systems have layered architechtures. The bottom layer is the physical layer which implements the modulation. Here we will use your [AFSK](http://en.wikipedia.org/wiki/Frequency-shift_keying) modules that you implemented in Lab 4 Part I. In addition, we will leverage [AX.25](http://www.tapr.org/pub_ax25.html), which is an amateur-radio data-link layer protocol. [AX.25](http://www.tapr.org/pub_ax25.html) is a packet based protocol that will help us transmit data using packets. It implements basic synchronization, addressing, data encapsulation and some error detection.  In the ham world, an implementation of AFSK and [AX.25](http://www.tapr.org/pub_ax25.html)  together is also called a [TNC ( Terminal Node Controller )](http://en.wikipedia.org/wiki/Terminal_node_controller). In the past, TNCs were separate boxes that hams attached to their radios to communicate with packet-based communication. An example is [TNC-X](http://tnc-x.com). Today, it is easy to implement TNCs in software using the Raspberry Pi and a sound extension.... as you will see here! \n",
    "\n",
    "\n",
    "<img src=\"./TNCX.jpg\" alt=\"Drawing\" style=\"height: 300px;\"/>\n",
    "\n",
    "<center> Figure: Example of TNC-X, a Hardware Terminal Node Controller  </center>\n",
    "\n"
   ]
  },
  {
   "cell_type": "markdown",
   "metadata": {},
   "source": [
    "# Pre-lab Setup\n",
    "Since we can't guarantee that everyone will have access to a radio, a callsign, and an APRS IGate close enough for the attenuated radios to reach, we have adjusted this lab to emulate RF infrastructure with a popular software TNC called direwolf. Since direwolf was designed to be able to transmit and receive RF signals through a sound card, we can emulate an RF channel by connecting our code's transmissions to direwolf through the same audio loopback we used in Lab 4. This section will set up direwolf and the audio loopback."
   ]
  },
  {
   "cell_type": "markdown",
   "metadata": {},
   "source": [
    "#### Pre-task 1\n",
    "Just as in the alternative  Lab 4, we must create an audio loopback with the command\n",
    "```sh\n",
    "sudo modprobe snd_aloop\n",
    "```\n",
    "You can check that it was successful with\n",
    "```sh\n",
    "aplay -L | grep -i plughw:card=loopback\n",
    "aplay -l | grep -i loopback\n",
    "```\n",
    "\n",
    "Run the commands below and ensure the loopback exists."
   ]
  },
  {
   "cell_type": "code",
   "execution_count": null,
   "metadata": {},
   "outputs": [],
   "source": [
    "!sudo modprobe snd_aloop\n",
    "!aplay -L | grep -i plughw:card=loopback\n",
    "!aplay -l | grep -i loopback"
   ]
  },
  {
   "cell_type": "markdown",
   "metadata": {},
   "source": [
    "- Record the card number for it to be used in the direwolf config file in case you have problems. "
   ]
  },
  {
   "cell_type": "markdown",
   "metadata": {},
   "source": [
    "#### Pre-task 2\n",
    "Now, we need to find your GPS coordinates. Direwolf will register the position on the APRS-IS network. The APRS-IS server filter, will only send packets to your Direwolf server if the stations are within 50km radius (you don't want to get position reports from the entire world, do you?). So, it is important that you use the same position throghout the lab (later we will use position again). \n",
    "\n",
    "We will use geopy to convert an address to a coordinate:"
   ]
  },
  {
   "cell_type": "code",
   "execution_count": null,
   "metadata": {},
   "outputs": [],
   "source": [
    "# Enter your address here\n",
    "myaddress = \"Cory Hall Berkeley CA USA\"\n",
    "\n",
    "from geopy.geocoders import Nominatim\n",
    "geolocator = Nominatim(user_agent=\"EE123\")\n",
    "location = geolocator.geocode(myaddress)"
   ]
  },
  {
   "cell_type": "code",
   "execution_count": null,
   "metadata": {},
   "outputs": [],
   "source": [
    "# hopefully it did not fail\n",
    "print(location.address)\n",
    "print((location.latitude, location.longitude))"
   ]
  },
  {
   "cell_type": "markdown",
   "metadata": {},
   "source": [
    "APRS uses degree,minutes.XX type format,  so we need to convert the coordinates. Use the following code to convert. Record the result to be used in the direwolf config file. "
   ]
  },
  {
   "cell_type": "code",
   "execution_count": null,
   "metadata": {},
   "outputs": [],
   "source": [
    "import math\n",
    "lat = \"lat=%d^%2.2f%s\" % (int(abs(location.latitude)),\n",
    "                          60*(abs(location.latitude) - abs(math.floor(location.latitude))),\n",
    "                          (\"N\") if location.latitude >0 else \"S\" )  \n",
    "long = \"long=%d^%2.2f%s\" % (int(abs(location.longitude)),\n",
    "                            60*(abs(location.longitude) - math.floor(abs(location.longitude))),\n",
    "                          (\"W\") if location.longitude <0 else \"E\" )  \n",
    "                            \n",
    "print(lat, long)"
   ]
  },
  {
   "cell_type": "markdown",
   "metadata": {},
   "source": [
    "In order to be verified by the APRS-IS network, you need a passcode that is associated with your call sign. The following code is adapted from https://github.com/rossengeorgiev/aprs-python/blob/master/aprslib/passcode.py to produce this code. Input your callsign and record the code to be used in the direwolf config file. \n",
    "\n",
    "**If you do not have a callsign, contact the course staff and we will provide you with an SSID**\n",
    "\n",
    "An SSID is a number used to distinguish individual transmitters operated with a single callsign. Using an SSID, you could have a repeater at home, a weather station nearby, and an APRS-enabled handheld radio all sending packets with your callsign, but still be distinguishable. SSIDs are formatted as `CALSGN-#`, e.g. `KK6MRI-1`."
   ]
  },
  {
   "cell_type": "code",
   "execution_count": null,
   "metadata": {},
   "outputs": [],
   "source": [
    "# enter your callsign and comment for the beacon\n",
    "callsign = \"??????-1\"\n",
    "comment = \"EE123 Rocks\"\n",
    "\n",
    "# generate passcode\n",
    "callsignr = callsign.split('-')[0].upper()\n",
    "code = 0x73e2\n",
    "for i, char in enumerate(callsignr):\n",
    "    code ^= ord(char) << (8 if not i % 2 else 0)\n",
    "\n",
    "passcode = code&0x7fff\n",
    "print(\"Passcode:\", passcode)"
   ]
  },
  {
   "cell_type": "markdown",
   "metadata": {},
   "source": [
    "Let's use the above information to update the config file for direwolf:"
   ]
  },
  {
   "cell_type": "code",
   "execution_count": null,
   "metadata": {},
   "outputs": [],
   "source": [
    "import os\n",
    "\n",
    "cmd = \"cat direwolf-loopback-DRAFT.conf  | sed  's/EE123_CALL/\"+callsign+\"/g'  | \"\n",
    "cmd = cmd +  \"sed  's/EE123_PASSCODE/%d/g' | \" % (passcode)\n",
    "cmd = cmd +  \"sed  's/EE123_COMMENT/comment=\\\"%s\\\"/g' | \" % (comment)\n",
    "cmd = cmd +  \"sed  's/EE123_LATCOORD/%s/g' | \" % (lat)\n",
    "cmd = cmd +  \"sed  's/EE123_LONGCOORD/%s/g' > direwolf-loopback.conf\" % (long)\n",
    "print(cmd)\n",
    "os.system(cmd)  # NOTE: this is poor security practice, but conveniently concise here"
   ]
  },
  {
   "cell_type": "markdown",
   "metadata": {},
   "source": [
    "#### Pre-task 3\n",
    "Once you have edited the config file, start a terminal (either via SSH or in Jupyter from the directory page), change to this directory, and run\n",
    "```sh\n",
    "./run-direwolf.sh\n",
    "```\n",
    "\n",
    "Leave direwolf running while you are working on the lab. You can close it with control-c once you are finished.\n",
    "\n",
    "Goto  http://aprs.fi and fill your callsign+ssid in the track callsign box.  You should see your station. "
   ]
  },
  {
   "cell_type": "code",
   "execution_count": null,
   "metadata": {},
   "outputs": [],
   "source": [
    "# Do the above tasks!"
   ]
  },
  {
   "cell_type": "markdown",
   "metadata": {},
   "source": [
    "# Main Tasks"
   ]
  },
  {
   "cell_type": "code",
   "execution_count": null,
   "metadata": {},
   "outputs": [],
   "source": [
    "# Import functions and libraries\n",
    "import numpy as np\n",
    "import matplotlib.pyplot as plt\n",
    "import queue as Queue\n",
    "import threading\n",
    "import time\n",
    "import sys\n",
    "import multiprocessing\n",
    "\n",
    "from numpy import ones, zeros, pi, sin, cos, exp, sign, r_, mean, power\n",
    "from numpy.fft import fft, fftshift, ifft, ifftshift\n",
    "from scipy import signal\n",
    "from scipy import integrate\n",
    "\n",
    "import bitarray\n",
    "from scipy.io.wavfile import read as wavread\n",
    "import ax25\n",
    "from math import gcd\n",
    "import sounddevice as sd\n",
    "import RPi.GPIO as GPIO\n",
    "from functools import reduce\n",
    "\n",
    "%matplotlib inline"
   ]
  },
  {
   "cell_type": "markdown",
   "metadata": {},
   "source": [
    "For the following tasks you will need the functions:\n",
    "\n",
    "`sg_plot`  included below\n",
    "\n",
    "`myspectrogram_hann_ovlp` included below\n",
    "\n",
    "`afsk1200` (from Lab 4 Part I)\n",
    "\n",
    "`nc_afsk1200Demod` (from Lab 4 Part I)\n",
    "\n",
    "`PLL` (from Lab 4 Part I)"
   ]
  },
  {
   "cell_type": "code",
   "execution_count": null,
   "metadata": {},
   "outputs": [],
   "source": [
    "# function to compute least common multiple\n",
    "def lcm(numbers):\n",
    "    return reduce(lambda x, y: (x*y)//gcd(x,y), numbers, 1)\n",
    "\n",
    "# function to compute average power spectrum\n",
    "def avgPS( x, N=256, fs=1):\n",
    "    M = (len(x)//N)\n",
    "    x_ = np.reshape(x[:M*N],(M,N)) * np.hamming(N)[None,:]\n",
    "    X = np.fft.fftshift(np.fft.fft(x_,axis=1),axes=1)\n",
    "    return r_[-N/2.0:N/2.0]/N*fs, np.mean(abs(X)**2,axis=0)\n",
    "\n",
    "# Plot an image of the spectrogram y, with the axis labeled with time tl,\n",
    "# and frequency fl\n",
    "#\n",
    "# t_range -- time axis label, nt samples\n",
    "# f_range -- frequency axis label, nf samples\n",
    "# y -- spectrogram, nf by nt array\n",
    "# dbf -- Dynamic range of the spect\n",
    "\n",
    "def sg_plot( t_range, f_range, y, dbf = 60, fig = None) :\n",
    "    eps = 10.0**(-dbf/20.0)  # minimum signal\n",
    "    \n",
    "    # find maximum\n",
    "    y_max = abs(y).max()\n",
    "    \n",
    "    # compute 20*log magnitude, scaled to the max\n",
    "    y_log = 20.0 * np.log10( (abs( y ) / y_max)*(1-eps) + eps )\n",
    "    \n",
    "    # rescale image intensity to 256\n",
    "    img = 256*(y_log + dbf)/dbf - 1\n",
    "    \n",
    "    fig=plt.figure(figsize=(16,6))\n",
    "    \n",
    "    plt.imshow( np.flipud( 64.0*(y_log + dbf)/dbf ), extent= t_range  + f_range ,cmap=plt.cm.gray, aspect='auto')\n",
    "    plt.xlabel('Time, s')\n",
    "    plt.ylabel('Frequency, Hz')\n",
    "    plt.tight_layout()\n",
    "    \n",
    "    return fig\n",
    "\n",
    "def myspectrogram_hann_ovlp(x, m, fs, fc,dbf = 60):\n",
    "    # Plot the spectrogram of x.\n",
    "    # First take the original signal x and split it into blocks of length m\n",
    "    # This corresponds to using a rectangular window %\n",
    "    \n",
    "    isreal_bool = np.isreal(x).all()\n",
    "    \n",
    "    # pad x up to a multiple of m \n",
    "    lx = len(x);\n",
    "    nt = (lx + m - 1) // m\n",
    "    x = np.append(x,zeros(-lx+nt*m))\n",
    "    x = x.reshape((m//2,nt*2), order='F')\n",
    "    x = np.concatenate((x,x),axis=0)\n",
    "    x = x.reshape((m*nt*2,1),order='F')\n",
    "    x = x[r_[m//2:len(x),np.ones(m//2)*(len(x)-1)].astype(int)].reshape((m,nt*2),order='F')\n",
    "    \n",
    "    xmw = x * np.hanning(m)[:,None];\n",
    "    \n",
    "    # frequency index\n",
    "    t_range = [0.0, lx / fs]\n",
    "    \n",
    "    if isreal_bool:\n",
    "        f_range = [ fc, fs / 2.0 + fc]\n",
    "        xmf = np.fft.fft(xmw,len(xmw),axis=0)\n",
    "        sg_plot(t_range, f_range, xmf[0:m//2,:],dbf=dbf)\n",
    "        print (1)\n",
    "    else:\n",
    "        f_range = [-fs / 2.0 + fc, fs / 2.0 + fc]\n",
    "        xmf = np.fft.fftshift( np.fft.fft( xmw ,len(xmw),axis=0), axes=0 )\n",
    "        sg_plot(t_range, f_range, xmf,dbf = dbf)\n",
    "    \n",
    "    return t_range, f_range, xmf\n"
   ]
  },
  {
   "cell_type": "markdown",
   "metadata": {},
   "source": [
    "### Functions from Lab 4\n",
    "\n",
    "Insert your \n",
    "\n",
    "`afsk1200` (from Lab 4)\n",
    "\n",
    "`nc_afsk1200Demod` (from Lab 4)\n",
    "\n",
    "`PLL` (from Lab 4)\n",
    "\n",
    "below\n"
   ]
  },
  {
   "cell_type": "code",
   "execution_count": null,
   "metadata": {},
   "outputs": [],
   "source": [
    "def afsk1200(bits, fs=48000):\n",
    "    # the function will take a bitarray of bits and will output an AFSK1200 modulated signal of them, sampled at fs Hz\n",
    "    #  Inputs:\n",
    "    #         bits  - bitarray of bits\n",
    "    #         fs    - sampling rate\n",
    "    # Outputs:\n",
    "    #         sig    -  returns afsk1200 modulated signal samples at fs Hz\n",
    "    \n",
    "    \n",
    "    \n",
    "    return sig\n",
    "\n",
    "\n",
    "def nc_afsk1200Demod(sig, fs=48000.0, TBW=2.0):\n",
    "    #  non-coherent demodulation of afsk1200\n",
    "    # function returns the NRZ (without rectifying it)\n",
    "    # \n",
    "    # sig  - signal\n",
    "    # baud - The bitrate. Default 1200\n",
    "    # fs   - sampling rate in Hz\n",
    "    # TBW  - TBW product of the filters\n",
    "    #\n",
    "    # Returns:\n",
    "    #     NRZ \n",
    "    \n",
    "\n",
    "\n",
    "    return NRZ\n",
    "\n",
    "\n",
    "def PLL(NRZa, a=0.74, fs=48000, baud=1200):\n",
    "    \n",
    "\n",
    "    \n",
    "    return idx[:c].astype(np.int32)\n"
   ]
  },
  {
   "cell_type": "markdown",
   "metadata": {},
   "source": [
    "Now, similarly to before, find the audio interface numbers. And intitialize the variables:\n",
    "usb_idx, loop_idx, builtin_idx\n",
    "\n",
    "You should use the second loopback device (dev 1) because direwolf connects to the first device."
   ]
  },
  {
   "cell_type": "code",
   "execution_count": null,
   "metadata": {},
   "outputs": [],
   "source": [
    "sd.query_devices()"
   ]
  },
  {
   "cell_type": "code",
   "execution_count": null,
   "metadata": {},
   "outputs": [],
   "source": [
    "builtin_idx = 0\n",
    "usb_idx = 1\n",
    "loop_idx = 3  # Use loopback dev 1! direwolf is connected to dev 0.\n",
    "loop_idx_rcv = 2  # Use loopback dev 0. \n",
    "sd.default.samplerate = 48000\n",
    "sd.default.channels = 1"
   ]
  },
  {
   "cell_type": "markdown",
   "metadata": {},
   "source": [
    "## AX.25 (from: http://n1vg.net/packet/ and http://www.tapr.org/pub_ax25.html)\n",
    "\n",
    "Before we go to demodulate AFSK1200 we will construct data in the form of AX.25 packets. The structure of the AX.25 packet, and in particular the flag that starts and ends a frame will help us sync to the beginning of the packet for accurate demodulation. \n",
    "The AX.25 protocol uses several measures for standardization and to improve detection and demodulation of packets. We will go over them now:\n",
    "\n",
    "#### NRZI (non-return to zero inverted)\n",
    "AX.25 does not encode  NRZ '1's and '0's in the usual mark and space frequencies. Instead it uses a scheme called NRZI, or non-return to zero inverted.  NRZI encodes a '0' bit as a change from mark to space, or space to mark. A '1' is encoded as no change.  To encode an AX.25 packet we need to convert our bit sequence to an NRZI one.  For example, an original bit stream of 11011000 should be first converted to 11000101 (initial state is 1). \n",
    "\n",
    "#### Bit Stuffing\n",
    "Because a '1' is represented by no change, sending a long string of '1's would result in a constant signal. Receivers, similar to the one you designed in Lab 4, uses phase-locked-loops to synchronize on bit changes. So a long constant signal may result in a receiver drifting out of sync with the transmitter. In order to circumvent this, the encoder performs bit stuffing before transmition by placing   a bit '0' after every fifth '1' in the the stream. The decoder does bit unstuffing and removes the extra '0's. Bit stuffing is performed before converting to NRZI.\n",
    "\n",
    "#### Bit Order\n",
    "Bytes are sent least-significant-bit first\n",
    "\n",
    "#### Flag\n",
    "A Flag field starts and ends each packet. It is a unique sequence and is used to detect the beginning and the end of packets. The flag consists of the bit sequence: 0x7E or: 01111110. The flag is an exception in which no bit stuffing is performed. Therefore it is the only place in the packet in which 6 consecutive '1's appear. In NRZI it will translate to a time interval of 7 bits between zero-crossings of the non-coherent detector output.  This means that we can use the flag sequence to uniquely detect the beginning and the end of a packet. \n",
    "\n",
    "#### Frame Structure\n",
    "The AX.25 protocol defines several types of frames, or packets. We will use the Un-numbered Information (UI) frame as defined in the protocol. A UI frame is used for connectionless mode, where AX.25 frames are transmitted without expecting any response, and reception is not guaranteed. This is similar to UDP in concept (however UDP is a transport layer protocol).\n",
    "The  [Automatic Positioning and Reporting System (APRS)] (http://en.wikipedia.org/wiki/Automatic_Packet_Reporting_System) protocol uses UI frames. The UI frame has 9 fields of data:\n",
    "\n",
    "| flag | Dest. Addr. | Src. Addr. |Digipeater Addresses | Control field | ID | Information Field | FCS | Flag |\n",
    "|----:|-----------:|----------:|:------------------:|:-------------:|:--:|:-----------------:|:---:|:----:|\n",
    "|1     |     7       |     7      |    56              |       1       |  1 |     256           |  2  |  1   |\n",
    "\n",
    "Of importance are the Source address, which are your call sign, the Information Field which is the packet payload, and the FCS which is an error checksum.\n",
    "\n",
    "#### FCS Field\n",
    "The FCS field is always the last two bytes in the packet. They are a checksum that can be used to determine the integrity of the packet, i.e., if an error in some of the bits has occured.\n"
   ]
  },
  {
   "cell_type": "markdown",
   "metadata": {},
   "source": [
    "---\n",
    "The following describes a system implementation that is based on the AX.25 protocol. It is called APRS, which stands for Automatic Positioning and Reporting System.\n",
    "\n",
    "## Automatic Positioning and Reporting System (APRS) (information from: [Here](http://www.aprs.org/doc/APRS101.PDF) and [here](http://www.aprs.org/iss-aprs/issicons.html))\n",
    "APRS is a ham packet-based system for real-time tactical digital communication for local area. APRS uses the AX.25 protocol in its core. Using APRS you can report position, status, and send messages that other hams or stations with APRS capability will be able to decode, interpret and display the information. APRS also provides means of packet repeating (Digipeaters) alongside internet terminal nodes. Some radio manufacturers saw the potential and included APRS in some of their products as well. Go to [this website](https://aprs.fi) to see the APRS activity in the surrounding area that is aggregated from the internet nodes. You will see fixed stations, weather stations, and mobile operators in your area. We will use the website to confirm that our transmitted packets were received. \n",
    "\n",
    "### Frequencies\n",
    "The national APRS frequency is 144.39MHz (ch-99 on your radio). There is much activity and infrastracture transmitting and listenning to that frequency. The international space station also has an APRS digipeater on board operating at 145.825MHZ (ch-50 on your radio). \n",
    "\n",
    "#### EE123 APRS frequency\n",
    "To prevent interference with others while we experiment with APRS, I have set up an APRS station in Cory hall. It will monitor the XPMT4U channel (ch-78),  443.670MHz on your radio. It has an internet link as well. Use this frequency especially if you are present in Cory Hall. If you are far from campus, this may not work. In that case, switch to the APRS frequency 144.39 (ch-99). Check out the website (http://aprs.fi) to see if there are any internet nodes near your home.\n",
    "\n",
    "### APRS Destination, Source, Digipeater Address, Control, ID and FCS packet fields\n",
    "APRS uses AX.25 with UI packets. This enables the use of any AX.25 modem with APRS. But the content of the UI packets is unique to APRS, and the information is used in a very particular way.\n",
    "\n",
    "For APRS packets, the Destination Address field is not used for routing. Instead it represents the version of the APRS software you are using. In order to be decoded by receivers in the APRS network it must start with the letters AP. We will use **`APCAL`** just for fun. \n",
    "\n",
    "The Source Address is **your call sign**. The Digipeater Addresses require some explanation, but the fields 'WIDE1-1,WIDE2-1' will result in the packet being digipeated a maximum of 2 hops. Using 'WIDE1-1' will result in a single hop which, in dense population areas like the Bay Area, is enough to get your packet to its destination. The Control and ID fields in APRS packets are fixed to \"\\x03\" and \"\\xF0\" respectively. The FCS field is the checksum field that is used to verify the packet integrity, as defined by AX.25. The flag fields are the usual 01111110.\n",
    "\n",
    "We have prepared for you code that generates a valid bitstream of AX.25 packets from the appropriate fields as well as decodes the fields from a bitstream. The code is a modification of code originally written by Greg Albrecht W2GMD. \n",
    "\n",
    "Make sure you have the file ``ax25.py`` in your working directory"
   ]
  },
  {
   "cell_type": "markdown",
   "metadata": {},
   "source": [
    " \n",
    "### The APRS information field\n",
    "The information field of the packet is a 256 Byte payload that contain the information you want to send. We will go over some of the information that is needed to construct valid and useful information field messeges. There are several digipeaters in the Bay Area that have internet terminal nodes. These implement several \"fun\" and useful services. For example, you can send a position report that would show up on a google map. You can also send a short EMAIL or an SMS test message by sending an APRS packet. In fact, we have our own APRS internet terminal node on Cory Hall!\n",
    "\n",
    "How a node or a client interprets your packet depends on the information field structure. The APRS system considers three types of packets: Position, Status and Message.\n",
    "\n",
    "#### Messages\n",
    "The format of a message payload is the following:\n",
    "\n",
    "Just begin your packet line with a colon and a 9 character TOADDRESS, another colon and then text. \n",
    "The TOADDRESS must have 9 characters and should be filled with spaces if it is smaller. \n",
    "\n",
    "Examples of messages:\n",
    "\n",
    "* :ALL❏❏❏❏❏❏:Everyone with capable radios that capture this message will display this text.\n",
    "* :KK6MRI❏❏❏:This message will only show on Miki's APRS enabled Yaezu VX-8dr radio screen\n",
    "* :SMSGTE❏❏❏:@5102008498 This message will be sent as an SMS to Miki's google phone\n",
    "* :WXBOT❏❏❏❏:94720 \n",
    "\n",
    "The message to WXBOT will result in an APRS message sent back to you with weather information at Berkeley. You will need to be receiving APRS messages at the time!\n",
    "\n",
    "The \"❏❏❏❏❏\" are blank spaces to fill the field to 9 characters.  \n",
    "\n",
    "Here's a link for information about [SMSGTE](https://smsgte.wixsite.com/smsgte) and [WXBOT](https://sites.google.com/site/ki6wjp/wxbot)\n",
    "\n",
    "Some radios implement message numbering, so packet repeating can be tracked. To number your message add the curly brackets symbol followed by the number. Often servers will acknowledge by sending you a confirmation back. \n",
    "\n",
    "For example, the first time you want to send an email to Miki put `{1` at the end of the message. second time put `{2` etc. \n",
    "* :EMAIL-2❏❏:mikilustig@berkeley.edu This message will send miki an email{1\n",
    "\n",
    "\n",
    "#### Position\n",
    "You can report your position to people on the APRS system. If your report is picked up by a node it will show up on http://www.aprs.fi. The basic format of a position packet is:\n",
    "\n",
    "| ! or = symbols | Latitude 8 chars | / | Longitude 9 chars| icon 1 char| Comment max 43 chars |\n",
    "|---------------|-------------------|---|------------------|------------|----------------------|\n",
    "| =             | 3752.50N|        /| 12215.43W|            K|Shows a school symbol on Cory Hall position|\n",
    "| =             |3752.45N |/|12215.98W|[|Shows a person walking on Oxford and Hearst|\n",
    "| =             |2759.16N |/|08655.30E|[|I'm on the top of the world! (Mt. Everest)|\n",
    "\n",
    "The latitude format is expressed as a fixed 8-character field, in degrees and decimal minutes (up to two decimal places), followed by a letter N for north and S for south. Latitude minutes are expressed as whole minutes and hundredths of a minute, separated by a decimal point. Longitude is expressed as a fixed 9-character field, in degrees and decimal minutes (to two decimal places), followed by the letter E for east or W for west. Longitude degrees are in the range 000 to 180. Longitude minutes are expressed as whole minutes and hundredths of a minute, separated by a decimal point.\n",
    "\n",
    "In generic format:\n",
    "\n",
    "* Latitude is expressed as: ddmm.hhN (i.e. degrees, minutes, and hundredths of a minute north)\n",
    "* Longitude is expressed as: dddmm.hhW (i.e. degrees, minutes, and hundredths of a minute west)\n",
    "\n",
    "For example Cory Hall is at N37° 52.5022', W122° 15.4395'. So the position is encoded as:\n",
    "3752.50N/12215.43W\n",
    "\n",
    "You can go to http://www.gpsvisualizer.com/geocode to find the coordinates of an address. Note: use the degree, minutes representation, not the decimal one. https://www.pgc.umn.edu/apps/convert/ will help you convert between decimal degrees and degress decimal minutes.\n",
    "\n",
    "a 1 character icon is provided after the coordinates. This will show an icon on the http://aprs.fi maps. Here are some useful ones:\n",
    "\n",
    "* \\- House with a VHF vertical\n",
    "*  < Motorcycle\n",
    "* \\> Car\n",
    "* Y Sailboat\n",
    "* b Bike\n",
    "* [ Jogger, walker, runner\n",
    "* X Helo\n",
    "* K School\n",
    "\n",
    "Examples:\n",
    "\n",
    "a school symbol \n",
    "* =3752.50N/12215.43WK Shows a school symbol on Cory Hall position.\n",
    "* =3752.45N/12215.98W[ Shows a person walking on Oxford and Hearst\n",
    "* =3752.❏❏N/12215.❏❏- Shows a house symbol somewhere in Berkeley.\n",
    "\n",
    "** The empty squares ❏ represent space characters **\n",
    "\n",
    "#### Status\n",
    "A status packet starts with a '>' character. It wil show on APRS equipped radios. \n",
    "\n",
    "Examples:\n",
    "\n",
    "*  \\>I like radios\n",
    "*  \\>Monitoring 146.430MHz PL 66\n",
    "*  \\>On My way home\n",
    "\n"
   ]
  },
  {
   "cell_type": "markdown",
   "metadata": {},
   "source": [
    "## Your first APRS packet\n",
    "In the following section we will construct a valid (bitstuffed) bitstream from the different APRS packet fields. We will convert to an NRZI representation and modulate to generate a valid AFSK1200 APRS Packet. We will transmit it over the radio and look at http://aprs.fi to see if it was received by a node. \n",
    "\n",
    "### Bitstream from APRS fields\n",
    "\n",
    "The following code shows you how to construct a message packet that will tell a digipeater to send you an SMS message. Make sure you fill the correct information in the fields. The bitstream will already be bitsuffed with zeroes. \n",
    "(SMSGTE, the server that sends SMS messages has added many features. Take a look at https://smsgte.org for more info)\n",
    "\n",
    "* Be aware that sending a message to your phone number will also mean that this number will show on the APRS network logs."
   ]
  },
  {
   "cell_type": "code",
   "execution_count": null,
   "metadata": {},
   "outputs": [],
   "source": [
    "# Enter your callsign, with SSID 2\n",
    "callsign = \"??????-2\"\n",
    "Digi = b'WIDE1-1,WIDE2-1'\n",
    "dest = \"APCAL\"\n",
    "\n",
    "# Uncomment to Send an SMS message to a phone number (update the number!)\n",
    "# info = \":SMSGTE   :@5102008498  Hey Miki I love EE123!{1\"\n",
    "\n",
    "# Uncomment to send an email (update the email!)  leave the {1 at the end. You will see a reply from the server \n",
    "# on Direwolf. If you send more messages, increment the number {2 , {3 etc.\n",
    "\n",
    "# info = \":EMAIL-2  :alan_dong@berkeley.edu EE123 is the best!{1\"\n",
    "\n",
    "# uncomment to send to everyone on the APRS system near you\n",
    "# info = \":ALL      : CQCQCQ Hello world!\"\n",
    "\n",
    "# uncomment to report position -- change the coordinate based on what you got previously\n",
    "# info = \"=3752.75N/12216.31WlIm using a laptop at home!\"\n",
    "\n",
    "# uncomment to send a status message\n",
    "#info = \">I like radios\"\n",
    "\n",
    "packet = ax25.UI(\n",
    "\t\tdestination=dest,\n",
    "\t\tsource=callsign, \n",
    "\t\tinfo=info,\n",
    "\t\tdigipeaters=Digi.split(b','),\n",
    "        )\n",
    "print(packet)\n",
    "print('==>')\n",
    "print(packet.unparse())"
   ]
  },
  {
   "cell_type": "markdown",
   "metadata": {},
   "source": [
    "### Converting a stream of bits to NRZI\n",
    "Recall that AX.25 packets are sent with NRZI encoding in which a '0' is a change and a '1' is no change. \n",
    "\n",
    "* The following function `NRZI = NRZ2NRZI(bits)`,  takes a standard bitarray stream and converts it to a bitarray stream representing '0's as change and '1's as unchanged. For example, an input of 0000111100 will result in 0101111101. This assume an initial state of '1'. \n",
    "* The function `NRZI2NRZ(NRZI, current = True)`, takes an NRZI bitstream and converts it to an NRZ. It assumes an inital state of `current` with default `current=bool(1)`.\n"
   ]
  },
  {
   "cell_type": "code",
   "execution_count": null,
   "metadata": {},
   "outputs": [],
   "source": [
    "def NRZ2NRZI(NRZ):\n",
    "    \n",
    "    NRZI = NRZ.copy() \n",
    "    current = True\n",
    "    for n in range(0,len(NRZ)):\n",
    "        if NRZ[n] :\n",
    "            NRZI[n] = current\n",
    "        else:\n",
    "            NRZI[n] = not(current)\n",
    "        current = NRZI[n]\n",
    "    return NRZI\n",
    "\n",
    "def NRZI2NRZ(NRZI, current = bool(1)):\n",
    "    \n",
    "    NRZ = NRZI.copy() \n",
    "    \n",
    "    for n in range(0,len(NRZI)):\n",
    "            NRZ[n] = NRZI[n] == current\n",
    "            current = NRZI[n]\n",
    "    return NRZ\n"
   ]
  },
  {
   "cell_type": "markdown",
   "metadata": {},
   "source": [
    "### Constructing and Transmitting an APRS AX.25 Packet. \n",
    "\n",
    "Most packet radio and TNC's will pad packets with extra `flag` sequences before and after the packet, to allow for synchronization. Rarely, the padding would be with zero-bit sequences (This will translate into alternating between Mark and Space which also helps with synchronization). Zero-padding is a deviation from the APRS protocol, but is allowed in most receivers. We will also pad our packets. \n",
    "\n",
    "#### Task 1:\n",
    "* Pad your packet with 40 flags in the begining and at the end.\n",
    "* Construct an afsk1200 signal at a sampling rate of 48 kHz out of the padded APRS packet we constructed. \n",
    "* Play the audio through the portable speaker. Make sure you use the built-in audio and not the sound extension. It will sound like an old modem (which is what it is!)\n",
    "* Plot its spectrogram with a window size of 80 samples (2 bits). You should be able to see the bits. \n",
    "\n",
    "Here's a python trick to generate 40 flags:\n",
    "\n",
    "``prefix = bitarray.bitarray(np.tile([0,1,1,1,1,1,1,0],(40,)).tolist())``"
   ]
  },
  {
   "cell_type": "code",
   "execution_count": null,
   "metadata": {
    "scrolled": false
   },
   "outputs": [],
   "source": [
    "# Your code here:\n",
    "\n",
    "\n",
    "# play sound on builtin interface and listen through the speaker    \n",
    "sd.play(msg*0.2,samplerate=48000,device=builtin_idx,blocking=True)"
   ]
  },
  {
   "cell_type": "markdown",
   "metadata": {},
   "source": [
    "Display a spectrogram:\n"
   ]
  },
  {
   "cell_type": "code",
   "execution_count": null,
   "metadata": {},
   "outputs": [],
   "source": [
    "tt,ff,xmf = myspectrogram_hann_ovlp(msg, 80, 48000.0, 0, dbf=30)"
   ]
  },
  {
   "cell_type": "markdown",
   "metadata": {},
   "source": [
    "#### Task 2:\n",
    "#### Without a radio:\n",
    "\n",
    "* Make sure that direwolf is running.\n",
    "* Send the APRS packet through the audio loopback.\n",
    "* Make sure your output volume and settings are a \"good choice\" (not too low but not too high). This means you need to scale your audio by a factor <1.0. I use 0.15\n",
    "* We include a time.sleep() call so that we don't DDOS the APRS-IS servers which run the internet backbone of APRS."
   ]
  },
  {
   "cell_type": "code",
   "execution_count": null,
   "metadata": {},
   "outputs": [],
   "source": [
    "time.sleep(0.1)\n",
    "sd.play(msg*0.15,samplerate=48000,device=loop_idx,blocking=True)"
   ]
  },
  {
   "cell_type": "markdown",
   "metadata": {},
   "source": [
    "#### Task 3.1:\n",
    "\n",
    "* Please send an SMS message using the radio to yourself or your teammates, give your name and a comment. You can also text Miki at (510)200-8498 (he has created this google voice account for this purpose).\n",
    "\n",
    "##### You can also search for your callsign in https://aprs.fi. and then press the raw-packets link. It will show you all the packets received from you in the last 48 hours. (You will have to make an account for this). This is very useful for debugging!!!!!\n",
    "\n"
   ]
  },
  {
   "cell_type": "code",
   "execution_count": null,
   "metadata": {},
   "outputs": [],
   "source": [
    "# Send a message!\n"
   ]
  },
  {
   "cell_type": "markdown",
   "metadata": {},
   "source": [
    "#### Task 3.2:\n",
    "* Send a position report based on the position coordinates you got in the beginning.  -- Can you see yourself with the SSID-2 on aprs.fi?"
   ]
  },
  {
   "cell_type": "code",
   "execution_count": null,
   "metadata": {},
   "outputs": [],
   "source": [
    "# Send a position report\n"
   ]
  },
  {
   "cell_type": "markdown",
   "metadata": {},
   "source": [
    "#### Task 3.3:\n",
    "\n",
    "* Send yourself an email, send your parents or friends an email. \n"
   ]
  },
  {
   "cell_type": "code",
   "execution_count": null,
   "metadata": {},
   "outputs": [],
   "source": [
    "# Send an email\n"
   ]
  },
  {
   "cell_type": "markdown",
   "metadata": {},
   "source": [
    "#### Task 3.4:\n",
    "\n",
    "* Send a status report message. \n",
    "\n"
   ]
  },
  {
   "cell_type": "code",
   "execution_count": null,
   "metadata": {},
   "outputs": [],
   "source": [
    "# Send a status report\n"
   ]
  },
  {
   "cell_type": "markdown",
   "metadata": {},
   "source": [
    "## Decoding AX.25 and APRS Packets\n",
    "\n",
    "Now that we know how to create AX.25 and APRS packets, know how to AFSK1200 modulate them, know how to demodulate AFSK1200 as well, we can move forward to receiving and decoding packets. By the end of that we will have a fully functioning communication system.\n",
    "\n",
    "Make sure the file `ISSpkt.wav` is in your working directoy. It contains an APRS packet I recorded on one of the International Space Station flybys. Load it to your workspace using the function `wavread`, which we imported from `scipy.io`.\n",
    "(ISSpkt.wav) \n"
   ]
  },
  {
   "cell_type": "code",
   "execution_count": null,
   "metadata": {},
   "outputs": [],
   "source": [
    "fs, sig = wavread(\"ISSpkt.wav\")"
   ]
  },
  {
   "cell_type": "markdown",
   "metadata": {},
   "source": [
    "We will now automate the packet decoding by writing some functions that implement portions of the process.\n",
    "\n",
    "* Run the function `nc_afsk1200Demod` on the ISS packet to get the demodulated \"analog\" NRZI\n",
    "* Plot the signal. It should look like a signal with $\\pm$ positive negative switching!"
   ]
  },
  {
   "cell_type": "code",
   "execution_count": null,
   "metadata": {},
   "outputs": [],
   "source": [
    "# Your code\n"
   ]
  },
  {
   "cell_type": "markdown",
   "metadata": {},
   "source": [
    "### Decoding Bits from the Demodulated NRZI Signal\n",
    "\n",
    "Once we demodulated the signal, the next task is to sample and look for packets in it! There are many ways to do so. We chose one similar to the DireWolfe implementation:\n",
    "\n",
    "* Use the PLL to determine where to sample and get an output NRZI bitstream.\n",
    "* Convert the NRZI to NRZ\n",
    "* Search the bits and look for flags that indicate the existance of a packet. Of course, there may be many false detection. Hence, consider any flag is end of a packet, or beginning of a new one.\n",
    "* Discard packets that are too short, or that the checksum does not match.\n",
    "\n",
    "Below are several functions we wrote for you:\n",
    "\n",
    "* `findPackets(bits)` - Searches a bitstream for possible valid packets\n",
    "* `genfcs(bits)` - generates a checksum for validating packets\n",
    "* `decodeAX25(bits)`  - Parses a packet bitstream into fields and decodes them\n",
    "\n",
    "Study well these functions, and in particular `findPackets(bits)`. You will need to modify it when performing stream processing.\n"
   ]
  },
  {
   "cell_type": "code",
   "execution_count": null,
   "metadata": {},
   "outputs": [],
   "source": [
    "def findPackets(bits):\n",
    "        # function take a bitarray and looks for AX.25 packets in it.\n",
    "        # It implements a 2-state machine of searching for flag or collecting packets.\n",
    "                \n",
    "        flg = bitarray.bitarray([0,1,1,1,1,1,1,0])\n",
    "        packets = []\n",
    "        n = 0\n",
    "        pktcounter = 0\n",
    "        packet = []\n",
    "        state = 'search'\n",
    "        \n",
    "        # Loop over bits\n",
    "        while (n < len(bits)-7) :\n",
    "            \n",
    "            # default state is searching for packets\n",
    "            if state is 'search':\n",
    "                \n",
    "                # look for 1111110, because can't be sure if the first zero is decoded\n",
    "                # well or if the packet is not padded.\n",
    "                if bits[n:n+7] == flg[1:]:\n",
    "                    \n",
    "                    # flag detected, so switch state to collecting bits in a packet\n",
    "                    # start by copying the flag to the packet\n",
    "                    # start counter to count the number of bits in the packet\n",
    "                    state = 'pkt'\n",
    "                    packet=flg.copy()\n",
    "                    pktcounter = 8                    \n",
    "                    # Advance to the end of the flag\n",
    "                    n = n + 7\n",
    "                else:\n",
    "                    # flag was not found, advance by 1\n",
    "                    n = n + 1            \n",
    "        \n",
    "            # state is to collect packet data. \n",
    "            elif state is 'pkt':\n",
    "                \n",
    "                # Check if we reached a flag by comparing with 0111111\n",
    "                # 6 times ones is not allowed in a packet, hence it must be a flag (if there's no error)\n",
    "                if bits[n:n+7] == flg[:7]:\n",
    "                    # Flag detected, check if packet is longer than some minimum\n",
    "                    if pktcounter > 200:\n",
    "                        # End of packet reached! append packet to list and switch to searching state\n",
    "                        # We don't advance pointer since this our packet might have been\n",
    "                        # false detection and this flag could be the beginning of a real packet\n",
    "                        state = 'search'\n",
    "                        packet.extend(flg)\n",
    "                        packets.append(packet.copy())\n",
    "                    else:\n",
    "                        # packet is too short! false alarm. Keep searching \n",
    "                        # We don't advance pointer since this this flag could be the beginning of a real packet\n",
    "                        state = 'search'\n",
    "                # No flag, so collect the bit and add to the packet\n",
    "                else:\n",
    "                    # check if packet is too long... if so, must be false alarm\n",
    "                    if pktcounter < 2680:\n",
    "                        # Not a false alarm, collect the bit and advance pointer                        \n",
    "                        packet.append(bits[n])\n",
    "                        pktcounter = pktcounter + 1\n",
    "                        n = n + 1\n",
    "                    else:  \n",
    "                        #runaway packet, switch state to searching, and advance pointer\n",
    "                        state = 'search'\n",
    "                        n = n + 1\n",
    "        return packets\n",
    "\n",
    "    \n",
    "# function to generate a checksum for validating packets\n",
    "def genfcs(bits):\n",
    "    # Generates a checksum from packet bits\n",
    "    fcs = ax25.FCS()\n",
    "    for bit in bits:\n",
    "        fcs.update_bit(bit)\n",
    "    \n",
    "    digest = bitarray.bitarray(endian=\"little\")\n",
    "    digest.frombytes(fcs.digest())\n",
    "\n",
    "    return digest\n",
    "\n",
    "\n",
    "# function to parse packet bits to information\n",
    "def decodeAX25(bits):\n",
    "    ax = ax25.AX25()\n",
    "    ax.info = \"bad packet\"\n",
    "        \n",
    "    # bits without pre/post - ambles\n",
    "    bitsu = ax25.bit_unstuff(bits[8:-8])\n",
    "    \n",
    "    if (genfcs(bitsu[:-16]).tobytes() == bitsu[-16:].tobytes()) == False:\n",
    "        #print(\"failed fcs\")\n",
    "        return ax\n",
    "    \n",
    "    bytes = bitsu.tobytes()\n",
    "    ax.destination = ax.callsign_decode(bitsu[:56]).decode('ascii')\n",
    "    source = ax.callsign_decode(bitsu[56:112]).decode('ascii')\n",
    "    \n",
    "    if source[-1].isdigit() and source[-1]!=\"0\":\n",
    "        ax.source = \"\".join((source[:-1],'-',source[-1]))\n",
    "    else:\n",
    "        ax.source = source[:-1]\n",
    "    \n",
    "    digilen=0    \n",
    "    \n",
    "    if bytes[14]=='\\x03' and bytes[15]=='\\xf0':\n",
    "        digilen = 0\n",
    "    else:\n",
    "        for n in range(14,len(bytes)-1):\n",
    "            if bytes[n] & 1:\n",
    "                digilen = (n-14)+1\n",
    "                break\n",
    "\n",
    "#    if digilen > 56:\n",
    "#        return ax\n",
    "    ax.digipeaters =  ax.callsign_decode(bitsu[112:112+digilen*8]).decode('ascii')\n",
    "    ax.info = bitsu[112+digilen*8+16:-16].tobytes().decode('ascii')\n",
    "    \n",
    "    return ax\n"
   ]
  },
  {
   "cell_type": "markdown",
   "metadata": {},
   "source": [
    "#### Task 4:\n",
    "\n",
    "* Use the pll to find the sampling index of the analog NRZI\n",
    "* Sample and convert to a bitarray (True is positive NRZI, False is negative NRZI)\n",
    "* Convert the NRZI bits to NRZ\n",
    "* Use `findPackets` to find packet in the bitstream\n",
    "* Save the packet into `packets` variable and run the following decoding\n",
    "\n",
    "You should get this when decoding properly:\n",
    "\n",
    "`1) | DEST:CQ    0 | SRC: RS0ISS | DIGI:  | ARISS - International Space Station |`"
   ]
  },
  {
   "cell_type": "code",
   "execution_count": null,
   "metadata": {},
   "outputs": [],
   "source": [
    "# your code\n"
   ]
  },
  {
   "cell_type": "code",
   "execution_count": null,
   "metadata": {},
   "outputs": [],
   "source": [
    "# Code to display packets\n",
    "\n",
    "npack = 0\n",
    "for pkt in packets:\n",
    "        if len(pkt) > 200: \n",
    "            ax = decodeAX25(pkt)\n",
    "            if ax.info != 'bad packet':\n",
    "                npack = npack+1\n",
    "                infostr = \"%(n) 2i) | DEST: %(dest)s | SRC: %(src)s | DIGI: %(digi)s | %(info)s |\" % {\n",
    "                        'n': npack,\n",
    "                        'dest': ax.destination,\n",
    "                        'src': ax.source,\n",
    "                        'digi': ax.digipeaters,\n",
    "                        'info': ax.info.strip()\n",
    "                    }\n",
    "            print(infostr)"
   ]
  },
  {
   "cell_type": "markdown",
   "metadata": {},
   "source": [
    "### Testing on more packets\n",
    "\n",
    "Now, lets try our decoder on a noisy recording with many more packets. \n",
    "\n",
    "#### Task 5:\n",
    "* Load the full recording of the pass, which is stored in `ISS.wav`. It's a 3 min recording.   \n",
    "* Process the signal and decode all the packets. My decoder decodes 24 packets successfully\n",
    "\n",
    "##### In python, implementing the PLL with for loops is inefficient. You can still run your own PLL, but the processing time may be too long. Instead, we wrote a simple C function, which runs incredibly fast. We use the ctypes interface to call the C function from python.  Below is the code necessary to run the fast PLL.  FastPLL can replace the PLL you wrote. Make sure libpll.so is in your operating directory. Take a look at pll.c to see how it was implemented. It is very similar to the python version. "
   ]
  },
  {
   "cell_type": "code",
   "execution_count": null,
   "metadata": {},
   "outputs": [],
   "source": [
    "# Build libpll.so\n",
    "!cc -fPIC -shared -o libpll.so pll.c"
   ]
  },
  {
   "cell_type": "code",
   "execution_count": null,
   "metadata": {},
   "outputs": [],
   "source": [
    "import numpy.ctypeslib as npct\n",
    "from ctypes import c_int\n",
    "from ctypes import c_float\n",
    "\n",
    "array_1d_int = npct.ndpointer(dtype=np.int, ndim=1, flags='CONTIGUOUS')\n",
    "\n",
    "libcd = npct.load_library(\"./libpll\", \".\")\n",
    "libcd.pll.restype = c_int\n",
    "libcd.pll.argtypes= [array_1d_int, c_int, array_1d_int,array_1d_int,  array_1d_int,array_1d_int, c_int, c_float]"
   ]
  },
  {
   "cell_type": "code",
   "execution_count": null,
   "metadata": {},
   "outputs": [],
   "source": [
    "def FastPLL(NRZa, a = 0.74 , fs = 48000, baud = 1200):    \n",
    "    \n",
    "    Ns = 1.0*fs/baud\n",
    "    dpll = np.round(2**32 / Ns).astype(np.int32)\n",
    "    \n",
    "    # allocate space for arrays and initialize pll variables\n",
    "    recbits = np.zeros(len(NRZa)//(fs//1200)*2,dtype=np.int32)\n",
    "    idx = np.zeros(len(NRZa)//(fs//1200)*2,dtype=np.int32)\n",
    "    pll = np.zeros(1,dtype = np.int32)\n",
    "    pll[0] = 0\n",
    "    ppll = np.zeros(1,dtype = np.int32)\n",
    "    ppll[0] =  -dpll\n",
    "        \n",
    "    NRZb = (NRZa > 0).astype(np.int32)\n",
    "    tot = libcd.pll(NRZb,len(NRZb),recbits,idx,pll,ppll,dpll,a)\n",
    "        \n",
    "    return idx[:tot].tolist()"
   ]
  },
  {
   "cell_type": "code",
   "execution_count": null,
   "metadata": {},
   "outputs": [],
   "source": [
    "fs, sig = wavread(\"ISS.wav\")\n",
    "\n",
    "# Your code here:\n"
   ]
  },
  {
   "cell_type": "code",
   "execution_count": null,
   "metadata": {},
   "outputs": [],
   "source": [
    "# display packets\n",
    "\n",
    "npack = 0\n",
    "for pkt in packets:\n",
    "        if len(pkt) > 200: \n",
    "            ax = decodeAX25(pkt)\n",
    "            if ax.info != 'bad packet':\n",
    "                npack = npack+1\n",
    "                infostr = \"%(n) 2i) | DEST: %(dest)s | SRC: %(src)s | DIGI: %(digi)s | %(info)s |\" % {\n",
    "                        'n': npack,\n",
    "                        'dest': ax.destination,\n",
    "                        'src': ax.source,\n",
    "                        'digi': ax.digipeaters,\n",
    "                        'info': ax.info.strip()\n",
    "                    }\n",
    "                print(infostr)"
   ]
  },
  {
   "cell_type": "markdown",
   "metadata": {},
   "source": [
    "#### Did you get 24 packets?"
   ]
  },
  {
   "cell_type": "markdown",
   "metadata": {},
   "source": [
    "### Test Loop-back audio\n",
    "#### Task 6:\n",
    "\n",
    "The next step is to test a loop-back in which you send audio and also receive and decode audio.  There are several options. \n",
    "\n",
    "1. Send audio through a software loopback -- for this, you need to stop Direwolf.\n",
    "\n",
    "2. Send audio to DireWolf. Direwolf will repeat your message and you will record the audio and decode the message. For this, keep Direwolf running. \n"
   ]
  },
  {
   "cell_type": "markdown",
   "metadata": {},
   "source": [
    "#### Task 7:\n",
    "\n",
    "* Generate 3 flag-padded packets, with **different** information in them. Have at least 40 flags before and after a packet. \n",
    "* Create the afsk1200 signal for each of the packets. \n",
    "* Before you transmit, add to the modulated message 5 seconds of zeros at the end. (That would be 240,000 samples)\n",
    "\n",
    "\n"
   ]
  },
  {
   "cell_type": "code",
   "execution_count": null,
   "metadata": {},
   "outputs": [],
   "source": [
    "# Your code here\n",
    "packet = []\n",
    "\n",
    "callsign = \"??????-2\"\n",
    "Digi =b'WIDE1-1,WIDE2-1'\n",
    "dest = \"APCAL\"\n",
    "\n",
    "info = \"\"\n",
    "packet.append(ax25.UI(destination=dest,source=callsign, info=info,digipeaters=Digi.split(b','),).unparse())\n",
    "\n",
    "info = \"\"\n",
    "packet.append(ax25.UI(destination=dest,source=callsign, info=info,digipeaters=Digi.split(b','),).unparse())\n",
    "\n",
    "info = \"\"\n",
    "packet.append(ax25.UI(destination=dest,source=callsign, info=info,digipeaters=Digi.split(b','),).unparse())"
   ]
  },
  {
   "cell_type": "code",
   "execution_count": null,
   "metadata": {},
   "outputs": [],
   "source": []
  },
  {
   "cell_type": "markdown",
   "metadata": {},
   "source": [
    "#### Task 8:\n",
    "* use ``sd.playrec`` to play and record the packets. The audio level will be different to what you are used to with the radio -- so adjust accordingly. \n",
    "* Decode the the packets from the recording.\n",
    "* Also, make a plot of the beginning 5000 samples of the audio recording. Make sure its not saturated!\n",
    "\n",
    "```python\n",
    "# Software loopback\n",
    "sig = sd.playrec(msg*0.2,samplerate=48000,device=(loop_idx,loop_idx_rcv),channels=1,blocking=True,dtype=np.float32)\n",
    "# Direwolf loopback\n",
    "sig = sd.playrec(msg*0.2,samplerate=48000,device=loop_idx,channels=1,blocking=False,dtype=np.float32)\n",
    "```\n",
    "\n",
    "Don't forget to use ``sig = sig.flatten()`` to turn it into size of ``(len(sig),)`` instead of ``(len(sig),1)``"
   ]
  },
  {
   "cell_type": "code",
   "execution_count": null,
   "metadata": {},
   "outputs": [],
   "source": [
    "# Your code here\n"
   ]
  },
  {
   "cell_type": "code",
   "execution_count": null,
   "metadata": {},
   "outputs": [],
   "source": [
    "# Plot\n"
   ]
  },
  {
   "cell_type": "code",
   "execution_count": null,
   "metadata": {},
   "outputs": [],
   "source": [
    "# Decode packets\n"
   ]
  },
  {
   "cell_type": "code",
   "execution_count": null,
   "metadata": {},
   "outputs": [],
   "source": [
    "# display packets:\n",
    "\n",
    "npack = 0\n",
    "for pkt in packets:\n",
    "        if len(pkt) > 200: \n",
    "            ax = decodeAX25(pkt)\n",
    "            if ax.info != 'bad packet':\n",
    "                npack = npack+1\n",
    "                infostr = \"%(n) 2i) | DEST: %(dest)s | SRC: %(src)s | DIGI: %(digi)s | %(info)s |\" % {\n",
    "                        'n': npack,\n",
    "                        'dest': ax.destination,\n",
    "                        'src': ax.source,\n",
    "                        'digi': ax.digipeaters,\n",
    "                        'info': ax.info.strip()\n",
    "                    }\n",
    "                print(infostr)"
   ]
  },
  {
   "cell_type": "markdown",
   "metadata": {},
   "source": [
    "#### Task 9:\n",
    "Now run Direwolf again.  Direwolf repeats messages it gets from APRS-IS to be transmitted on the audio loopback device. So, if we record 60 seconds of audio from the device loop_idx, it is likely that we will record packets. \n",
    "\n",
    "While recording sound, look at the Direwolf terminal and count the number of messages saying `[ig->tx]`.  "
   ]
  },
  {
   "cell_type": "code",
   "execution_count": null,
   "metadata": {},
   "outputs": [],
   "source": [
    "sig = sd.rec(fs*60,samplerate=48000,device=loop_idx,channels=1,blocking=True,dtype=np.float32)"
   ]
  },
  {
   "cell_type": "markdown",
   "metadata": {},
   "source": [
    "Decode the messages."
   ]
  },
  {
   "cell_type": "code",
   "execution_count": null,
   "metadata": {},
   "outputs": [],
   "source": [
    "# Your code here:\n",
    "\n",
    "\n",
    "# display packets:\n",
    "npack = 0\n",
    "for pkt in packets:\n",
    "        if len(pkt) > 200: \n",
    "            ax = decodeAX25(pkt)\n",
    "            if ax.info != 'bad packet':\n",
    "                npack = npack+1\n",
    "                infostr = \"%(n) 2i) | DEST: %(dest)s | SRC: %(src)s | DIGI: %(digi)s | %(info)s |\" % {\n",
    "                        'n': npack,\n",
    "                        'dest': ax.destination,\n",
    "                        'src': ax.source,\n",
    "                        'digi': ax.digipeaters,\n",
    "                        'info': ax.info.strip()\n",
    "                    }\n",
    "                print(infostr)"
   ]
  },
  {
   "cell_type": "code",
   "execution_count": null,
   "metadata": {
    "scrolled": true
   },
   "outputs": [],
   "source": [
    "plt.figure(figsize=(16,4))\n",
    "plt.plot(sig[::480])"
   ]
  },
  {
   "cell_type": "markdown",
   "metadata": {},
   "source": [
    "Congratulations,  you created a modem!\n",
    "\n",
    "\n",
    "## Next.... We will move to stream processing to make it useful."
   ]
  },
  {
   "cell_type": "code",
   "execution_count": null,
   "metadata": {},
   "outputs": [],
   "source": []
  }
 ],
 "metadata": {
  "kernelspec": {
   "display_name": "Python 3",
   "language": "python",
   "name": "python3"
  },
  "language_info": {
   "codemirror_mode": {
    "name": "ipython",
    "version": 3
   },
   "file_extension": ".py",
   "mimetype": "text/x-python",
   "name": "python",
   "nbconvert_exporter": "python",
   "pygments_lexer": "ipython3",
   "version": "3.7.3"
  },
  "toc": {
   "base_numbering": 1,
   "nav_menu": {},
   "number_sections": true,
   "sideBar": true,
   "skip_h1_title": false,
   "title_cell": "Table of Contents",
   "title_sidebar": "Contents",
   "toc_cell": false,
   "toc_position": {},
   "toc_section_display": true,
   "toc_window_display": false
  }
 },
 "nbformat": 4,
 "nbformat_minor": 1
}
